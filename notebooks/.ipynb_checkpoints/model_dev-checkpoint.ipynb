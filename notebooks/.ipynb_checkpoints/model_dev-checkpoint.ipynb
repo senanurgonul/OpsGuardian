{
 "cells": [
  {
   "cell_type": "code",
   "execution_count": 16,
   "id": "44539f66-b695-45ba-af36-ae59c8ef56f3",
   "metadata": {},
   "outputs": [],
   "source": []
  },
  {
   "cell_type": "code",
   "execution_count": null,
   "id": "39cdc999-f5da-4e24-bafe-aa41025de312",
   "metadata": {},
   "outputs": [],
   "source": []
  }
 ],
 "metadata": {
  "kernelspec": {
   "display_name": "Python 3 (ipykernel)",
   "language": "python",
   "name": "python3"
  },
  "language_info": {
   "codemirror_mode": {
    "name": "ipython",
    "version": 3
   },
   "file_extension": ".py",
   "mimetype": "text/x-python",
   "name": "python",
   "nbconvert_exporter": "python",
   "pygments_lexer": "ipython3",
   "version": "3.12.10"
  }
 },
 "nbformat": 4,
 "nbformat_minor": 5
}
