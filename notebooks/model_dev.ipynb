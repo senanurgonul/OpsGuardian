{
 "cells": [
  {
   "cell_type": "code",
   "execution_count": 9,
   "id": "44539f66-b695-45ba-af36-ae59c8ef56f3",
   "metadata": {},
   "outputs": [],
   "source": [
    "import pandas as pd\n",
    "import numpy as np\n",
    "from sklearn.ensemble import IsolationForest\n",
    "from sklearn.model_selection import train_test_split\n",
    "from sklearn.preprocessing import StandardScaler, LabelEncoder\n",
    "from xgboost import XGBClassifier\n",
    "from sklearn.metrics import classification_report, confusion_matrix\n",
    "import mlflow\n"
   ]
  },
  {
   "cell_type": "code",
   "execution_count": 10,
   "id": "39cdc999-f5da-4e24-bafe-aa41025de312",
   "metadata": {},
   "outputs": [
    {
     "data": {
      "text/html": [
       "<div>\n",
       "<style scoped>\n",
       "    .dataframe tbody tr th:only-of-type {\n",
       "        vertical-align: middle;\n",
       "    }\n",
       "\n",
       "    .dataframe tbody tr th {\n",
       "        vertical-align: top;\n",
       "    }\n",
       "\n",
       "    .dataframe thead th {\n",
       "        text-align: right;\n",
       "    }\n",
       "</style>\n",
       "<table border=\"1\" class=\"dataframe\">\n",
       "  <thead>\n",
       "    <tr style=\"text-align: right;\">\n",
       "      <th></th>\n",
       "      <th>timestamp</th>\n",
       "      <th>device_id</th>\n",
       "      <th>error_code</th>\n",
       "      <th>cpu_temp</th>\n",
       "      <th>bandwidth</th>\n",
       "      <th>status</th>\n",
       "    </tr>\n",
       "  </thead>\n",
       "  <tbody>\n",
       "    <tr>\n",
       "      <th>0</th>\n",
       "      <td>2025-06-11 14:52:30.318750</td>\n",
       "      <td>device_0</td>\n",
       "      <td>366</td>\n",
       "      <td>54.87</td>\n",
       "      <td>150.88</td>\n",
       "      <td>OK</td>\n",
       "    </tr>\n",
       "    <tr>\n",
       "      <th>1</th>\n",
       "      <td>2025-06-11 14:52:20.318750</td>\n",
       "      <td>device_1</td>\n",
       "      <td>613</td>\n",
       "      <td>43.19</td>\n",
       "      <td>936.30</td>\n",
       "      <td>WARNING</td>\n",
       "    </tr>\n",
       "    <tr>\n",
       "      <th>2</th>\n",
       "      <td>2025-06-11 14:52:10.318750</td>\n",
       "      <td>device_2</td>\n",
       "      <td>292</td>\n",
       "      <td>42.88</td>\n",
       "      <td>558.25</td>\n",
       "      <td>OK</td>\n",
       "    </tr>\n",
       "    <tr>\n",
       "      <th>3</th>\n",
       "      <td>2025-06-11 14:52:00.318750</td>\n",
       "      <td>device_3</td>\n",
       "      <td>352</td>\n",
       "      <td>80.43</td>\n",
       "      <td>663.77</td>\n",
       "      <td>WARNING</td>\n",
       "    </tr>\n",
       "    <tr>\n",
       "      <th>4</th>\n",
       "      <td>2025-06-11 14:51:50.318750</td>\n",
       "      <td>device_4</td>\n",
       "      <td>837</td>\n",
       "      <td>46.22</td>\n",
       "      <td>600.56</td>\n",
       "      <td>OK</td>\n",
       "    </tr>\n",
       "  </tbody>\n",
       "</table>\n",
       "</div>"
      ],
      "text/plain": [
       "                    timestamp device_id  error_code  cpu_temp  bandwidth  \\\n",
       "0  2025-06-11 14:52:30.318750  device_0         366     54.87     150.88   \n",
       "1  2025-06-11 14:52:20.318750  device_1         613     43.19     936.30   \n",
       "2  2025-06-11 14:52:10.318750  device_2         292     42.88     558.25   \n",
       "3  2025-06-11 14:52:00.318750  device_3         352     80.43     663.77   \n",
       "4  2025-06-11 14:51:50.318750  device_4         837     46.22     600.56   \n",
       "\n",
       "    status  \n",
       "0       OK  \n",
       "1  WARNING  \n",
       "2       OK  \n",
       "3  WARNING  \n",
       "4       OK  "
      ]
     },
     "execution_count": 10,
     "metadata": {},
     "output_type": "execute_result"
    }
   ],
   "source": [
    "df = pd.read_csv(\"../data/logs.csv\")\n",
    "df.head()\n"
   ]
  },
  {
   "cell_type": "code",
   "execution_count": 11,
   "id": "c60763e3-c719-4668-a05c-238c37172113",
   "metadata": {},
   "outputs": [],
   "source": [
    "df['timestamp'] = pd.to_datetime(df['timestamp'])\n",
    "\n",
    "# Label encoding (status: OK → 0, WARNING → 1, ERROR → 2)\n",
    "le = LabelEncoder()\n",
    "df['status_encoded'] = le.fit_transform(df['status'])\n",
    "\n",
    "# Özellikler\n",
    "features = ['cpu_temp', 'bandwidth']\n",
    "X = df[features]\n",
    "y = df['status_encoded']\n",
    "\n",
    "# Scaling\n",
    "scaler = StandardScaler()\n",
    "X_scaled = scaler.fit_transform(X)\n"
   ]
  },
  {
   "cell_type": "code",
   "execution_count": 12,
   "id": "a9026bea-ba22-414b-b300-0000e18ba92d",
   "metadata": {},
   "outputs": [],
   "source": [
    "iso_model = IsolationForest(contamination=0.1, random_state=42)\n",
    "df['anomaly'] = iso_model.fit_predict(X_scaled)\n",
    "# -1 = anomali, 1 = normal\n"
   ]
  },
  {
   "cell_type": "code",
   "execution_count": 13,
   "id": "f76b126d-4341-4790-9861-6fb24faa64d4",
   "metadata": {},
   "outputs": [
    {
     "name": "stdout",
     "output_type": "stream",
     "text": [
      "              precision    recall  f1-score   support\n",
      "\n",
      "       ERROR       0.00      0.00      0.00      1970\n",
      "          OK       0.70      1.00      0.83     14066\n",
      "     WARNING       0.16      0.00      0.00      3964\n",
      "\n",
      "    accuracy                           0.70     20000\n",
      "   macro avg       0.29      0.33      0.28     20000\n",
      "weighted avg       0.53      0.70      0.58     20000\n",
      "\n"
     ]
    },
    {
     "name": "stderr",
     "output_type": "stream",
     "text": [
      "C:\\Users\\MSI\\Desktop\\opsguardian\\venv\\Lib\\site-packages\\sklearn\\metrics\\_classification.py:1706: UndefinedMetricWarning: Precision is ill-defined and being set to 0.0 in labels with no predicted samples. Use `zero_division` parameter to control this behavior.\n",
      "  _warn_prf(average, modifier, f\"{metric.capitalize()} is\", result.shape[0])\n",
      "C:\\Users\\MSI\\Desktop\\opsguardian\\venv\\Lib\\site-packages\\sklearn\\metrics\\_classification.py:1706: UndefinedMetricWarning: Precision is ill-defined and being set to 0.0 in labels with no predicted samples. Use `zero_division` parameter to control this behavior.\n",
      "  _warn_prf(average, modifier, f\"{metric.capitalize()} is\", result.shape[0])\n",
      "C:\\Users\\MSI\\Desktop\\opsguardian\\venv\\Lib\\site-packages\\sklearn\\metrics\\_classification.py:1706: UndefinedMetricWarning: Precision is ill-defined and being set to 0.0 in labels with no predicted samples. Use `zero_division` parameter to control this behavior.\n",
      "  _warn_prf(average, modifier, f\"{metric.capitalize()} is\", result.shape[0])\n"
     ]
    }
   ],
   "source": [
    "X_train, X_test, y_train, y_test = train_test_split(\n",
    "    X_scaled, y, test_size=0.2, random_state=42\n",
    ")\n",
    "\n",
    "clf = XGBClassifier()\n",
    "clf.fit(X_train, y_train)\n",
    "\n",
    "y_pred = clf.predict(X_test)\n",
    "\n",
    "print(classification_report(y_test, y_pred, target_names=le.classes_))\n"
   ]
  },
  {
   "cell_type": "code",
   "execution_count": 14,
   "id": "316236f0-7905-40c7-a926-5389c614108b",
   "metadata": {},
   "outputs": [
    {
     "name": "stderr",
     "output_type": "stream",
     "text": [
      "2025/06/18 13:06:37 WARNING mlflow.models.model: `artifact_path` is deprecated. Please use `name` instead.\n",
      "2025/06/18 13:06:41 WARNING mlflow.models.model: Model logged without a signature and input example. Please set `input_example` parameter when logging the model to auto infer the model signature.\n"
     ]
    }
   ],
   "source": [
    "# XGBoost modelini logladık\n",
    "mlflow.set_experiment(\"OpsGuardian-ML\")\n",
    "\n",
    "with mlflow.start_run():\n",
    "    mlflow.log_param(\"model\", \"XGBoost\")\n",
    "    mlflow.log_metric(\"accuracy\", clf.score(X_test, y_test))\n",
    "    mlflow.sklearn.log_model(clf, \"xgb_model\")\n"
   ]
  },
  {
   "cell_type": "code",
   "execution_count": 15,
   "id": "653c766b-86cb-4cc0-9257-3b3a149d0584",
   "metadata": {},
   "outputs": [
    {
     "name": "stderr",
     "output_type": "stream",
     "text": [
      "2025/06/18 13:06:41 WARNING mlflow.models.model: `artifact_path` is deprecated. Please use `name` instead.\n",
      "2025/06/18 13:06:44 WARNING mlflow.models.model: Model logged without a signature and input example. Please set `input_example` parameter when logging the model to auto infer the model signature.\n"
     ]
    }
   ],
   "source": [
    "# Isolation Forest modelini logla\n",
    "with mlflow.start_run(run_name=\"isolation_forest\"):\n",
    "    mlflow.log_param(\"model\", \"IsolationForest\")\n",
    "    mlflow.log_param(\"contamination\", 0.1)\n",
    "    mlflow.sklearn.log_model(iso_model, \"anomaly_detector_model\")\n"
   ]
  },
  {
   "cell_type": "code",
   "execution_count": null,
   "id": "59d9c42a-0c74-486e-8f94-269ec72f7b5a",
   "metadata": {},
   "outputs": [],
   "source": []
  }
 ],
 "metadata": {
  "kernelspec": {
   "display_name": "Python 3 (ipykernel)",
   "language": "python",
   "name": "python3"
  },
  "language_info": {
   "codemirror_mode": {
    "name": "ipython",
    "version": 3
   },
   "file_extension": ".py",
   "mimetype": "text/x-python",
   "name": "python",
   "nbconvert_exporter": "python",
   "pygments_lexer": "ipython3",
   "version": "3.12.10"
  }
 },
 "nbformat": 4,
 "nbformat_minor": 5
}
